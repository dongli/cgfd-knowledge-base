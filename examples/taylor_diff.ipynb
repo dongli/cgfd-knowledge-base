{
 "cells": [
  {
   "cell_type": "code",
   "execution_count": 15,
   "metadata": {},
   "outputs": [
    {
     "name": "stdout",
     "output_type": "stream",
     "text": [
      "1st backward:\n"
     ]
    },
    {
     "data": {
      "text/latex": [
       "$\\displaystyle \\left[\\begin{matrix}1 & 1\\\\-1 & 0\\end{matrix}\\right]$"
      ],
      "text/plain": [
       "⎡1   1⎤\n",
       "⎢     ⎥\n",
       "⎣-1  0⎦"
      ]
     },
     "metadata": {},
     "output_type": "display_data"
    },
    {
     "data": {
      "text/latex": [
       "$\\displaystyle \\left[ -1, \\  1\\right]$"
      ],
      "text/plain": [
       "[-1, 1]"
      ]
     },
     "metadata": {},
     "output_type": "display_data"
    },
    {
     "name": "stdout",
     "output_type": "stream",
     "text": [
      "1st forward:\n"
     ]
    },
    {
     "data": {
      "text/latex": [
       "$\\displaystyle \\left[\\begin{matrix}1 & 1\\\\0 & 1\\end{matrix}\\right]$"
      ],
      "text/plain": [
       "⎡1  1⎤\n",
       "⎢    ⎥\n",
       "⎣0  1⎦"
      ]
     },
     "metadata": {},
     "output_type": "display_data"
    },
    {
     "data": {
      "text/latex": [
       "$\\displaystyle \\left[ -1, \\  1\\right]$"
      ],
      "text/plain": [
       "[-1, 1]"
      ]
     },
     "metadata": {},
     "output_type": "display_data"
    },
    {
     "name": "stdout",
     "output_type": "stream",
     "text": [
      "2nd:\n"
     ]
    },
    {
     "data": {
      "text/latex": [
       "$\\displaystyle \\left[\\begin{matrix}1 & 1 & 1\\\\-1 & 0 & 1\\\\\\frac{1}{2} & 0 & \\frac{1}{2}\\end{matrix}\\right]$"
      ],
      "text/plain": [
       "⎡ 1   1   1 ⎤\n",
       "⎢           ⎥\n",
       "⎢-1   0   1 ⎥\n",
       "⎢           ⎥\n",
       "⎣1/2  0  1/2⎦"
      ]
     },
     "metadata": {},
     "output_type": "display_data"
    },
    {
     "data": {
      "text/latex": [
       "$\\displaystyle \\left[ 1, \\  -2, \\  1\\right]$"
      ],
      "text/plain": [
       "[1, -2, 1]"
      ]
     },
     "metadata": {},
     "output_type": "display_data"
    },
    {
     "name": "stdout",
     "output_type": "stream",
     "text": [
      "3rd backward:\n"
     ]
    },
    {
     "data": {
      "text/latex": [
       "$\\displaystyle \\left[\\begin{matrix}1 & 1 & 1 & 1\\\\-2 & -1 & 0 & 1\\\\2 & \\frac{1}{2} & 0 & \\frac{1}{2}\\\\- \\frac{4}{3} & - \\frac{1}{6} & 0 & \\frac{1}{6}\\end{matrix}\\right]$"
      ],
      "text/plain": [
       "⎡ 1     1    1   1 ⎤\n",
       "⎢                  ⎥\n",
       "⎢ -2    -1   0   1 ⎥\n",
       "⎢                  ⎥\n",
       "⎢ 2    1/2   0  1/2⎥\n",
       "⎢                  ⎥\n",
       "⎣-4/3  -1/6  0  1/6⎦"
      ]
     },
     "metadata": {},
     "output_type": "display_data"
    },
    {
     "data": {
      "text/latex": [
       "$\\displaystyle \\left[ -1, \\  3, \\  -3, \\  1\\right]$"
      ],
      "text/plain": [
       "[-1, 3, -3, 1]"
      ]
     },
     "metadata": {},
     "output_type": "display_data"
    },
    {
     "name": "stdout",
     "output_type": "stream",
     "text": [
      "3rd forward:\n"
     ]
    },
    {
     "data": {
      "text/latex": [
       "$\\displaystyle \\left[\\begin{matrix}1 & 1 & 1 & 1\\\\-1 & 0 & 1 & 2\\\\\\frac{1}{2} & 0 & \\frac{1}{2} & 2\\\\- \\frac{1}{6} & 0 & \\frac{1}{6} & \\frac{4}{3}\\end{matrix}\\right]$"
      ],
      "text/plain": [
       "⎡ 1    1   1    1 ⎤\n",
       "⎢                 ⎥\n",
       "⎢ -1   0   1    2 ⎥\n",
       "⎢                 ⎥\n",
       "⎢1/2   0  1/2   2 ⎥\n",
       "⎢                 ⎥\n",
       "⎣-1/6  0  1/6  4/3⎦"
      ]
     },
     "metadata": {},
     "output_type": "display_data"
    },
    {
     "data": {
      "text/latex": [
       "$\\displaystyle \\left[ -1, \\  3, \\  -3, \\  1\\right]$"
      ],
      "text/plain": [
       "[-1, 3, -3, 1]"
      ]
     },
     "metadata": {},
     "output_type": "display_data"
    },
    {
     "name": "stdout",
     "output_type": "stream",
     "text": [
      "4th:\n"
     ]
    },
    {
     "data": {
      "text/latex": [
       "$\\displaystyle \\left[\\begin{matrix}1 & 1 & 1 & 1 & 1\\\\-2 & -1 & 0 & 1 & 2\\\\2 & \\frac{1}{2} & 0 & \\frac{1}{2} & 2\\\\- \\frac{4}{3} & - \\frac{1}{6} & 0 & \\frac{1}{6} & \\frac{4}{3}\\\\\\frac{2}{3} & \\frac{1}{24} & 0 & \\frac{1}{24} & \\frac{2}{3}\\end{matrix}\\right]$"
      ],
      "text/plain": [
       "⎡ 1     1    1   1     1 ⎤\n",
       "⎢                        ⎥\n",
       "⎢ -2    -1   0   1     2 ⎥\n",
       "⎢                        ⎥\n",
       "⎢ 2    1/2   0  1/2    2 ⎥\n",
       "⎢                        ⎥\n",
       "⎢-4/3  -1/6  0  1/6   4/3⎥\n",
       "⎢                        ⎥\n",
       "⎣2/3   1/24  0  1/24  2/3⎦"
      ]
     },
     "metadata": {},
     "output_type": "display_data"
    },
    {
     "data": {
      "text/latex": [
       "$\\displaystyle \\left[ 1, \\  -4, \\  6, \\  -4, \\  1\\right]$"
      ],
      "text/plain": [
       "[1, -4, 6, -4, 1]"
      ]
     },
     "metadata": {},
     "output_type": "display_data"
    },
    {
     "name": "stdout",
     "output_type": "stream",
     "text": [
      "5th backward:\n"
     ]
    },
    {
     "data": {
      "text/latex": [
       "$\\displaystyle \\left[\\begin{matrix}1 & 1 & 1 & 1 & 1 & 1\\\\-3 & -2 & -1 & 0 & 1 & 2\\\\\\frac{9}{2} & 2 & \\frac{1}{2} & 0 & \\frac{1}{2} & 2\\\\- \\frac{9}{2} & - \\frac{4}{3} & - \\frac{1}{6} & 0 & \\frac{1}{6} & \\frac{4}{3}\\\\\\frac{27}{8} & \\frac{2}{3} & \\frac{1}{24} & 0 & \\frac{1}{24} & \\frac{2}{3}\\\\- \\frac{81}{40} & - \\frac{4}{15} & - \\frac{1}{120} & 0 & \\frac{1}{120} & \\frac{4}{15}\\end{matrix}\\right]$"
      ],
      "text/plain": [
       "⎡ 1      1      1     1    1     1  ⎤\n",
       "⎢                                   ⎥\n",
       "⎢ -3    -2      -1    0    1     2  ⎥\n",
       "⎢                                   ⎥\n",
       "⎢9/2     2     1/2    0   1/2    2  ⎥\n",
       "⎢                                   ⎥\n",
       "⎢-9/2  -4/3    -1/6   0   1/6   4/3 ⎥\n",
       "⎢                                   ⎥\n",
       "⎢27/8   2/3    1/24   0  1/24   2/3 ⎥\n",
       "⎢                                   ⎥\n",
       "⎢-81                                ⎥\n",
       "⎢────  -4/15  -1/120  0  1/120  4/15⎥\n",
       "⎣ 40                                ⎦"
      ]
     },
     "metadata": {},
     "output_type": "display_data"
    },
    {
     "data": {
      "text/latex": [
       "$\\displaystyle \\left[ -1, \\  5, \\  -10, \\  10, \\  -5, \\  1\\right]$"
      ],
      "text/plain": [
       "[-1, 5, -10, 10, -5, 1]"
      ]
     },
     "metadata": {},
     "output_type": "display_data"
    },
    {
     "name": "stdout",
     "output_type": "stream",
     "text": [
      "5th forward:\n"
     ]
    },
    {
     "data": {
      "text/latex": [
       "$\\displaystyle \\left[\\begin{matrix}1 & 1 & 1 & 1 & 1 & 1\\\\-2 & -1 & 0 & 1 & 2 & 3\\\\2 & \\frac{1}{2} & 0 & \\frac{1}{2} & 2 & \\frac{9}{2}\\\\- \\frac{4}{3} & - \\frac{1}{6} & 0 & \\frac{1}{6} & \\frac{4}{3} & \\frac{9}{2}\\\\\\frac{2}{3} & \\frac{1}{24} & 0 & \\frac{1}{24} & \\frac{2}{3} & \\frac{27}{8}\\\\- \\frac{4}{15} & - \\frac{1}{120} & 0 & \\frac{1}{120} & \\frac{4}{15} & \\frac{81}{40}\\end{matrix}\\right]$"
      ],
      "text/plain": [
       "⎡  1      1     1    1     1     1  ⎤\n",
       "⎢                                   ⎥\n",
       "⎢ -2      -1    0    1     2     3  ⎥\n",
       "⎢                                   ⎥\n",
       "⎢  2     1/2    0   1/2    2    9/2 ⎥\n",
       "⎢                                   ⎥\n",
       "⎢-4/3    -1/6   0   1/6   4/3   9/2 ⎥\n",
       "⎢                                   ⎥\n",
       "⎢ 2/3    1/24   0  1/24   2/3   27/8⎥\n",
       "⎢                                   ⎥\n",
       "⎢                                81 ⎥\n",
       "⎢-4/15  -1/120  0  1/120  4/15   ── ⎥\n",
       "⎣                                40 ⎦"
      ]
     },
     "metadata": {},
     "output_type": "display_data"
    },
    {
     "data": {
      "text/latex": [
       "$\\displaystyle \\left[ -1, \\  5, \\  -10, \\  10, \\  -5, \\  1\\right]$"
      ],
      "text/plain": [
       "[-1, 5, -10, 10, -5, 1]"
      ]
     },
     "metadata": {},
     "output_type": "display_data"
    },
    {
     "name": "stdout",
     "output_type": "stream",
     "text": [
      "6th:\n"
     ]
    },
    {
     "data": {
      "text/latex": [
       "$\\displaystyle \\left[\\begin{matrix}1 & 1 & 1 & 1 & 1 & 1 & 1\\\\-3 & -2 & -1 & 0 & 1 & 2 & 3\\\\\\frac{9}{2} & 2 & \\frac{1}{2} & 0 & \\frac{1}{2} & 2 & \\frac{9}{2}\\\\- \\frac{9}{2} & - \\frac{4}{3} & - \\frac{1}{6} & 0 & \\frac{1}{6} & \\frac{4}{3} & \\frac{9}{2}\\\\\\frac{27}{8} & \\frac{2}{3} & \\frac{1}{24} & 0 & \\frac{1}{24} & \\frac{2}{3} & \\frac{27}{8}\\\\- \\frac{81}{40} & - \\frac{4}{15} & - \\frac{1}{120} & 0 & \\frac{1}{120} & \\frac{4}{15} & \\frac{81}{40}\\\\\\frac{81}{80} & \\frac{4}{45} & \\frac{1}{720} & 0 & \\frac{1}{720} & \\frac{4}{45} & \\frac{81}{80}\\end{matrix}\\right]$"
      ],
      "text/plain": [
       "⎡ 1      1      1     1    1     1     1  ⎤\n",
       "⎢                                         ⎥\n",
       "⎢ -3    -2      -1    0    1     2     3  ⎥\n",
       "⎢                                         ⎥\n",
       "⎢9/2     2     1/2    0   1/2    2    9/2 ⎥\n",
       "⎢                                         ⎥\n",
       "⎢-9/2  -4/3    -1/6   0   1/6   4/3   9/2 ⎥\n",
       "⎢                                         ⎥\n",
       "⎢27/8   2/3    1/24   0  1/24   2/3   27/8⎥\n",
       "⎢                                         ⎥\n",
       "⎢-81                                   81 ⎥\n",
       "⎢────  -4/15  -1/120  0  1/120  4/15   ── ⎥\n",
       "⎢ 40                                   40 ⎥\n",
       "⎢                                         ⎥\n",
       "⎢ 81                                   81 ⎥\n",
       "⎢ ──   4/45   1/720   0  1/720  4/45   ── ⎥\n",
       "⎣ 80                                   80 ⎦"
      ]
     },
     "metadata": {},
     "output_type": "display_data"
    },
    {
     "data": {
      "text/latex": [
       "$\\displaystyle \\left[ 1, \\  -6, \\  15, \\  -20, \\  15, \\  -6, \\  1\\right]$"
      ],
      "text/plain": [
       "[1, -6, 15, -20, 15, -6, 1]"
      ]
     },
     "metadata": {},
     "output_type": "display_data"
    },
    {
     "name": "stdout",
     "output_type": "stream",
     "text": [
      "7th backward:\n"
     ]
    },
    {
     "data": {
      "text/latex": [
       "$\\displaystyle \\left[\\begin{matrix}1 & 1 & 1 & 1 & 1 & 1 & 1 & 1\\\\-4 & -3 & -2 & -1 & 0 & 1 & 2 & 3\\\\8 & \\frac{9}{2} & 2 & \\frac{1}{2} & 0 & \\frac{1}{2} & 2 & \\frac{9}{2}\\\\- \\frac{32}{3} & - \\frac{9}{2} & - \\frac{4}{3} & - \\frac{1}{6} & 0 & \\frac{1}{6} & \\frac{4}{3} & \\frac{9}{2}\\\\\\frac{32}{3} & \\frac{27}{8} & \\frac{2}{3} & \\frac{1}{24} & 0 & \\frac{1}{24} & \\frac{2}{3} & \\frac{27}{8}\\\\- \\frac{128}{15} & - \\frac{81}{40} & - \\frac{4}{15} & - \\frac{1}{120} & 0 & \\frac{1}{120} & \\frac{4}{15} & \\frac{81}{40}\\\\\\frac{256}{45} & \\frac{81}{80} & \\frac{4}{45} & \\frac{1}{720} & 0 & \\frac{1}{720} & \\frac{4}{45} & \\frac{81}{80}\\\\- \\frac{1024}{315} & - \\frac{243}{560} & - \\frac{8}{315} & - \\frac{1}{5040} & 0 & \\frac{1}{5040} & \\frac{8}{315} & \\frac{243}{560}\\end{matrix}\\right]$"
      ],
      "text/plain": [
       "⎡  1       1      1        1     1    1       1     1  ⎤\n",
       "⎢                                                      ⎥\n",
       "⎢  -4     -3      -2      -1     0    1       2     3  ⎥\n",
       "⎢                                                      ⎥\n",
       "⎢  8      9/2     2       1/2    0   1/2      2    9/2 ⎥\n",
       "⎢                                                      ⎥\n",
       "⎢-32/3   -9/2    -4/3    -1/6    0   1/6     4/3   9/2 ⎥\n",
       "⎢                                                      ⎥\n",
       "⎢ 32/3   27/8    2/3     1/24    0   1/24    2/3   27/8⎥\n",
       "⎢                                                      ⎥\n",
       "⎢-128    -81                                        81 ⎥\n",
       "⎢─────   ────   -4/15   -1/120   0  1/120   4/15    ── ⎥\n",
       "⎢  15     40                                        40 ⎥\n",
       "⎢                                                      ⎥\n",
       "⎢ 256     81                                        81 ⎥\n",
       "⎢ ───     ──     4/45    1/720   0  1/720   4/45    ── ⎥\n",
       "⎢  45     80                                        80 ⎥\n",
       "⎢                                                      ⎥\n",
       "⎢-1024   -243                                      243 ⎥\n",
       "⎢──────  ─────  -8/315  -1/5040  0  1/5040  8/315  ─── ⎥\n",
       "⎣ 315     560                                      560 ⎦"
      ]
     },
     "metadata": {},
     "output_type": "display_data"
    },
    {
     "data": {
      "text/latex": [
       "$\\displaystyle \\left[ -1, \\  7, \\  -21, \\  35, \\  -35, \\  21, \\  -7, \\  1\\right]$"
      ],
      "text/plain": [
       "[-1, 7, -21, 35, -35, 21, -7, 1]"
      ]
     },
     "metadata": {},
     "output_type": "display_data"
    },
    {
     "data": {
      "text/latex": [
       "$\\displaystyle \\left[\\begin{matrix}1 & 1 & 1 & 1 & 1 & 1 & 1 & 1 & 1\\\\-4 & -3 & -2 & -1 & 0 & 1 & 2 & 3 & 4\\\\8 & \\frac{9}{2} & 2 & \\frac{1}{2} & 0 & \\frac{1}{2} & 2 & \\frac{9}{2} & 8\\\\- \\frac{32}{3} & - \\frac{9}{2} & - \\frac{4}{3} & - \\frac{1}{6} & 0 & \\frac{1}{6} & \\frac{4}{3} & \\frac{9}{2} & \\frac{32}{3}\\\\\\frac{32}{3} & \\frac{27}{8} & \\frac{2}{3} & \\frac{1}{24} & 0 & \\frac{1}{24} & \\frac{2}{3} & \\frac{27}{8} & \\frac{32}{3}\\\\- \\frac{128}{15} & - \\frac{81}{40} & - \\frac{4}{15} & - \\frac{1}{120} & 0 & \\frac{1}{120} & \\frac{4}{15} & \\frac{81}{40} & \\frac{128}{15}\\\\\\frac{256}{45} & \\frac{81}{80} & \\frac{4}{45} & \\frac{1}{720} & 0 & \\frac{1}{720} & \\frac{4}{45} & \\frac{81}{80} & \\frac{256}{45}\\\\- \\frac{1024}{315} & - \\frac{243}{560} & - \\frac{8}{315} & - \\frac{1}{5040} & 0 & \\frac{1}{5040} & \\frac{8}{315} & \\frac{243}{560} & \\frac{1024}{315}\\\\\\frac{512}{315} & \\frac{729}{4480} & \\frac{2}{315} & \\frac{1}{40320} & 0 & \\frac{1}{40320} & \\frac{2}{315} & \\frac{729}{4480} & \\frac{512}{315}\\end{matrix}\\right]$"
      ],
      "text/plain": [
       "⎡  1       1      1        1     1     1       1     1     1  ⎤\n",
       "⎢                                                             ⎥\n",
       "⎢  -4     -3      -2      -1     0     1       2     3     4  ⎥\n",
       "⎢                                                             ⎥\n",
       "⎢  8      9/2     2       1/2    0    1/2      2    9/2    8  ⎥\n",
       "⎢                                                             ⎥\n",
       "⎢-32/3   -9/2    -4/3    -1/6    0    1/6     4/3   9/2   32/3⎥\n",
       "⎢                                                             ⎥\n",
       "⎢ 32/3   27/8    2/3     1/24    0   1/24     2/3   27/8  32/3⎥\n",
       "⎢                                                             ⎥\n",
       "⎢-128    -81                                         81   128 ⎥\n",
       "⎢─────   ────   -4/15   -1/120   0   1/120   4/15    ──   ─── ⎥\n",
       "⎢  15     40                                         40    15 ⎥\n",
       "⎢                                                             ⎥\n",
       "⎢ 256     81                                         81   256 ⎥\n",
       "⎢ ───     ──     4/45    1/720   0   1/720   4/45    ──   ─── ⎥\n",
       "⎢  45     80                                         80    45 ⎥\n",
       "⎢                                                             ⎥\n",
       "⎢-1024   -243                                       243   1024⎥\n",
       "⎢──────  ─────  -8/315  -1/5040  0  1/5040   8/315  ───   ────⎥\n",
       "⎢ 315     560                                       560   315 ⎥\n",
       "⎢                                                             ⎥\n",
       "⎢ 512    729                                        729   512 ⎥\n",
       "⎢ ───    ────   2/315   1/40320  0  1/40320  2/315  ────  ─── ⎥\n",
       "⎣ 315    4480                                       4480  315 ⎦"
      ]
     },
     "metadata": {},
     "output_type": "display_data"
    },
    {
     "data": {
      "text/latex": [
       "$\\displaystyle \\left[ 1, \\  -8, \\  28, \\  -56, \\  70, \\  -56, \\  28, \\  -8, \\  1\\right]$"
      ],
      "text/plain": [
       "[1, -8, 28, -56, 70, -56, 28, -8, 1]"
      ]
     },
     "metadata": {},
     "output_type": "display_data"
    }
   ],
   "source": [
    "# This example shows how to use symbolic computation to deduce difference formula at different orders.\n",
    "\n",
    "from sympy import *\n",
    "from IPython.display import display # Use display to show in LaTeX.\n",
    "\n",
    "# dx is the grid interval and f(x) is the function.\n",
    "dx = symbols('dx')\n",
    "f = Function('f')\n",
    "\n",
    "# Helper function to return Taylor expansion coefficients, where n is the expansion order.\n",
    "def taylor(f, x, n):\n",
    "\tif x == 0:\n",
    "\t\treturn [1 if i == 0 else 0 for i in range(n+1)]\n",
    "\telse:\n",
    "\t\treturn [list(x.as_coefficients_dict().values())[0] for x in f(x).series(x, x0=0, n=n+1).as_ordered_terms()][:-1]\n",
    "\n",
    "# Basic idea:\n",
    "#\n",
    "#  Use Taylor to expand f at selected points, for example:\n",
    "#\n",
    "#    f(-dx) = f(0) - dx f'(0) + dx^2 f''(0) / 2 - O(dx^3)\n",
    "#    f(  0) = f(0)\n",
    "#    f( dx) = f(0) + dx f'(0) + dx^2 f''(0) / 2 + O(dx^3)\n",
    "#\n",
    "#  We want to find weights w_{-1}, w_0, w_1 such that\n",
    "#\n",
    "#    w_{-1} f(-dx) + w_0 f(0) + w_1 f(1) = 0 f(0) + 1 f'(0) + 0 f''(0) + ...\n",
    "#\n",
    "#    [  1     1    1    ] [w_{-1}]   [0]\n",
    "#    [-dx     0   dx    ] [w_0   ] = [1]\n",
    "#    [ dx^2/2 0   dx^2/2] [w_1   ]   [0]\n",
    "#\n",
    "#  After solve the above linear equations, we get the difference weights for the selected points.\n",
    "#  The following calculations assume dx = 1.\n",
    "\n",
    "# 1st order difference formula\n",
    "print('1st backward:')\n",
    "M = Matrix([\n",
    "\ttaylor(f, -1 * dx, 1),\n",
    "\ttaylor(f,       0, 1)\n",
    "]).transpose()\n",
    "display(M)\n",
    "w = list(M.inv() * Matrix([0, 1]))\n",
    "display(w)\n",
    "print('1st forward:')\n",
    "M = Matrix([\n",
    "\ttaylor(f,       0, 1),\n",
    "\ttaylor(f,  1 * dx, 1)\n",
    "]).transpose()\n",
    "display(M)\n",
    "w = list(M.inv() * Matrix([0, 1]))\n",
    "display(w)\n",
    "\n",
    "# 2nd order difference formula\n",
    "print('2nd:')\n",
    "M = Matrix([\n",
    "\ttaylor(f, -1 * dx, 2),\n",
    "\ttaylor(f,       0, 2),\n",
    "\ttaylor(f,      dx, 2)\n",
    "]).transpose()\n",
    "display(M)\n",
    "w = list(M.inv() * Matrix([0, 0, 1]))\n",
    "display(w)\n",
    "\n",
    "# 3rd order difference formula\n",
    "print('3rd backward:')\n",
    "M = Matrix([\n",
    "\ttaylor(f, -2 * dx, 3),\n",
    "\ttaylor(f, -1 * dx, 3),\n",
    "\ttaylor(f,       0, 3),\n",
    "\ttaylor(f,  1 * dx, 3)\n",
    "]).transpose()\n",
    "display(M)\n",
    "w = list(M.inv() * Matrix([0, 0, 0, 1]))\n",
    "display(w)\n",
    "print('3rd forward:')\n",
    "M = Matrix([\n",
    "\ttaylor(f, -1 * dx, 3),\n",
    "\ttaylor(f,       0, 3),\n",
    "\ttaylor(f,  1 * dx, 3),\n",
    "\ttaylor(f,  2 * dx, 3)\n",
    "]).transpose()\n",
    "display(M)\n",
    "w = list(M.inv() * Matrix([0, 0, 0, 1]))\n",
    "display(w)\n",
    "\n",
    "# 4th order difference formula\n",
    "print('4th:')\n",
    "M = Matrix([\n",
    "\ttaylor(f, -2 * dx, 4),\n",
    "\ttaylor(f, -1 * dx, 4),\n",
    "\ttaylor(f,       0, 4),\n",
    "\ttaylor(f,      dx, 4),\n",
    "\ttaylor(f,  2 * dx, 4)\n",
    "]).transpose()\n",
    "display(M)\n",
    "w = list(M.inv() * Matrix([0, 0, 0, 0, 1]))\n",
    "display(w)\n",
    "\n",
    "# 5th order difference formula\n",
    "print('5th backward:') # On i - 1/2 grid\n",
    "M = Matrix([\n",
    "\ttaylor(f, -3 * dx, 5),\n",
    "\ttaylor(f, -2 * dx, 5),\n",
    "\ttaylor(f, -1 * dx, 5),\n",
    "\ttaylor(f,       0, 5),\n",
    "\ttaylor(f,      dx, 5),\n",
    "\ttaylor(f,  2 * dx, 5)\n",
    "]).transpose()\n",
    "display(M)\n",
    "w = list(M.inv() * Matrix([0, 0, 0, 0, 0, 1]))\n",
    "display(w)\n",
    "print('5th forward:') # On i + i/2 grid\n",
    "M = Matrix([\n",
    "\ttaylor(f, -2 * dx, 5),\n",
    "\ttaylor(f, -1 * dx, 5),\n",
    "\ttaylor(f,       0, 5),\n",
    "\ttaylor(f,      dx, 5),\n",
    "\ttaylor(f,  2 * dx, 5),\n",
    "\ttaylor(f,  3 * dx, 5)\n",
    "]).transpose()\n",
    "display(M)\n",
    "w = list(M.inv() * Matrix([0, 0, 0, 0, 0, 1]))\n",
    "display(w)\n",
    "\n",
    "# 6th order difference formula\n",
    "print('6th:')\n",
    "M = Matrix([\n",
    "\ttaylor(f, -3 * dx, 6),\n",
    "\ttaylor(f, -2 * dx, 6),\n",
    "\ttaylor(f, -1 * dx, 6),\n",
    "\ttaylor(f,       0, 6),\n",
    "\ttaylor(f,  1 * dx, 6),\n",
    "\ttaylor(f,  2 * dx, 6),\n",
    "\ttaylor(f,  3 * dx, 6),\n",
    "]).transpose()\n",
    "display(M)\n",
    "w = list(M.inv() * Matrix([0, 0, 0, 0, 0, 0, 1]))\n",
    "display(w)\n",
    "\n",
    "# 7th order difference formula\n",
    "print('7th backward:') # On i - 1/2 grid\n",
    "M = Matrix([\n",
    "\ttaylor(f, -4 * dx, 7),\n",
    "\ttaylor(f, -3 * dx, 7),\n",
    "\ttaylor(f, -2 * dx, 7),\n",
    "\ttaylor(f, -1 * dx, 7),\n",
    "\ttaylor(f,       0, 7),\n",
    "\ttaylor(f,      dx, 7),\n",
    "\ttaylor(f,  2 * dx, 7),\n",
    "\ttaylor(f,  3 * dx, 7)\n",
    "]).transpose()\n",
    "display(M)\n",
    "w = list(M.inv() * Matrix([0, 0, 0, 0, 0, 0, 0, 1]))\n",
    "display(w)\n",
    "\n",
    "# 8th order difference formula\n",
    "M = Matrix([\n",
    "\ttaylor(f, -4 * dx, 8),\n",
    "\ttaylor(f, -3 * dx, 8),\n",
    "\ttaylor(f, -2 * dx, 8),\n",
    "\ttaylor(f, -1 * dx, 8),\n",
    "\ttaylor(f,       0, 8),\n",
    "\ttaylor(f,  1 * dx, 8),\n",
    "\ttaylor(f,  2 * dx, 8),\n",
    "\ttaylor(f,  3 * dx, 8),\n",
    "\ttaylor(f,  4 * dx, 8),\n",
    "]).transpose()\n",
    "display(M)\n",
    "w = list(M.inv() * Matrix([0, 0, 0, 0, 0, 0, 0, 0, 1]))\n",
    "display(w)"
   ]
  },
  {
   "cell_type": "code",
   "execution_count": 12,
   "metadata": {},
   "outputs": [
    {
     "data": {
      "text/latex": [
       "$\\displaystyle f{\\left(0 \\right)} + \\Delta{x} \\left. \\frac{d}{d x} f{\\left(x \\right)} \\right|_{\\substack{ x=0 }} + \\frac{\\Delta{x}^{2} \\left. \\frac{d^{2}}{d x^{2}} f{\\left(x \\right)} \\right|_{\\substack{ x=0 }}}{2} + \\frac{\\Delta{x}^{3} \\left. \\frac{d^{3}}{d x^{3}} f{\\left(x \\right)} \\right|_{\\substack{ x=0 }}}{6} + O\\left(\\Delta{x}^{4}\\right)$"
      ],
      "text/plain": [
       "                                             ⎛  2      ⎞│                 ⎛  3\n",
       "                                           2 ⎜ d       ⎟│               3 ⎜ d \n",
       "                                  \\Delta{x} ⋅⎜───(f(x))⎟│      \\Delta{x} ⋅⎜───\n",
       "                                             ⎜  2      ⎟│                 ⎜  3\n",
       "                 ⎛d       ⎞│                 ⎝dx       ⎠│x=0              ⎝dx \n",
       "f(0) + \\Delta{x}⋅⎜──(f(x))⎟│    + ────────────────────────── + ───────────────\n",
       "                 ⎝dx      ⎠│x=0               2                            6  \n",
       "\n",
       "      ⎞│                   \n",
       "      ⎟│                   \n",
       "(f(x))⎟│                   \n",
       "      ⎟│                   \n",
       "      ⎠│x=0    ⎛         4⎞\n",
       "─────────── + O⎝\\Delta{x} ⎠\n",
       "                           "
      ]
     },
     "metadata": {},
     "output_type": "display_data"
    }
   ],
   "source": [
    "# Some practices:\n",
    "\n",
    "from sympy import *\n",
    "from IPython.display import display # Use display to show in LaTeX.\n",
    "\n",
    "x = symbols('\\Delta{x}')\n",
    "f = Function('f')\n",
    "\n",
    "display(f(x).series(x, x0=0, n=4))"
   ]
  }
 ],
 "metadata": {
  "kernelspec": {
   "display_name": "Python 3",
   "language": "python",
   "name": "python3"
  },
  "language_info": {
   "codemirror_mode": {
    "name": "ipython",
    "version": 3
   },
   "file_extension": ".py",
   "mimetype": "text/x-python",
   "name": "python",
   "nbconvert_exporter": "python",
   "pygments_lexer": "ipython3",
   "version": "3.7.4"
  }
 },
 "nbformat": 4,
 "nbformat_minor": 4
}
